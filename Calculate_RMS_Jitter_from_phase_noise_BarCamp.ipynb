{
 "cells": [
  {
   "cell_type": "markdown",
   "id": "cdf69e73-6d33-40ae-a2f5-2623002bc7e5",
   "metadata": {
    "editable": true,
    "raw_mimetype": "",
    "slideshow": {
     "slide_type": "subslide"
    },
    "tags": []
   },
   "source": [
    "# Berechnung des RMS Jitter / ps aus dem Trace eines Phasen Rausch Signals"
   ]
  },
  {
   "cell_type": "markdown",
   "id": "15c79664-0729-4d4f-b2c6-1a2897d3031d",
   "metadata": {
    "editable": true,
    "slideshow": {
     "slide_type": "fragment"
    },
    "tags": []
   },
   "source": [
    "#### Gleichungen\n",
    "- https://www.analog.com/en/resources/technical-articles/clock-clk-jitter-and-phase-noise-conversion.html\n",
    "\n",
    "#### Online calculator for phase noise jitter\n",
    "\n",
    "- https://markimicrowave.com/technical-resources/tools/phase-noise-jitter-calculator/\n"
   ]
  },
  {
   "cell_type": "markdown",
   "id": "2b815345-717a-43bb-b1a1-ac9084bf4c64",
   "metadata": {
    "editable": true,
    "slideshow": {
     "slide_type": "slide"
    },
    "tags": []
   },
   "source": [
    "# Formel zur berechnung des RMS Jitters aus dem Phasenrauschen"
   ]
  },
  {
   "cell_type": "markdown",
   "id": "2e73b7b2-93b3-4942-b936-3346f682fa89",
   "metadata": {
    "editable": true,
    "slideshow": {
     "slide_type": "skip"
    },
    "tags": []
   },
   "source": [
    "The integrated phase noise $\\Delta \\phi^2$ equals the area under the curve over the given integration bandwidth, \n",
    "$$\\Delta \\phi^2 = \\int_{f_1}^{f_2}L_{\\phi}(f) df $$\n",
    "where $L_{\\phi}(f)$ is the phase noise spectral density in linear scale (${1}\\over{Hz}$), and $f_1$ and $f_2$ are the lower and upper integration bound $(Hz)$.\n",
    "$$RMS\\:Phase\\:Jitter\\,(rad) = \\sqrt{2 \\Delta \\phi^2} = \\sqrt{2 \\int_{f_1}^{f_2}L_{\\phi}(f) df}$$\n",
    "\n",
    "$$RMS\\:Phase\\:Jitter\\,(sec)  = \\frac{1}{2\\pi f_0}\\sqrt{2 \\int_{f_1}^{f_2}L_{\\phi}(f) df}$$\n",
    "where $f_0$ is the oscillator frequency $(Hz)$.\n"
   ]
  },
  {
   "cell_type": "markdown",
   "id": "084fd01c-e42e-45eb-8dee-4add99702628",
   "metadata": {
    "editable": true,
    "slideshow": {
     "slide_type": "subslide"
    },
    "tags": []
   },
   "source": [
    "\n",
    "\n",
    "Die integrierte Phasenrauschen $\\Delta \\phi^2$ entspricht der Fläche unter der Kurve über der gegebenen Integrationsbandbreite, \n",
    "$$\\Delta \\phi^2 = \\int_{f_1}^{f_2}L_{\\phi}(f) df $$ \n",
    "wobei $L_{\\phi}(f)$ die Phasenrauschspektraldichte im linearen Maßstab (${1}\\over{Hz}$) ist und $f_1$ und $f_2$ die untere und obere Integrationsgrenze $(Hz)$ sind. \n",
    "\n",
    "$$RMS\\:Phase\\:Jitter\\,(rad) = \\sqrt{2 \\Delta \\phi^2} = \\sqrt{2 \\int_{f_1}^{f_2}L_{\\phi}(f) df}$$\n",
    "\n",
    "$$RMS\\:Phase\\:Jitter\\,(sec)  = \\frac{1}{2\\pi f_0}\\sqrt{2 \\int_{f_1}^{f_2}L_{\\phi}(f) df}$$\n",
    "\n",
    "wobei $f_0$ die Trägerfrequenz $(Hz)$ ist."
   ]
  },
  {
   "cell_type": "markdown",
   "id": "07e81203-b273-4536-abaf-dfbb48b3fc9a",
   "metadata": {
    "editable": true,
    "slideshow": {
     "slide_type": "subslide"
    },
    "tags": []
   },
   "source": [
    "\n",
    "\n",
    "I $${\\large RMS_{jitter} = \\frac{1}{2 \\pi f_c} \\sqrt{2 \\sum_{i=1}^{K-1} 10^{\\frac{-b_i}{10}} f_i^{\\frac{-a_i}{10}} \\left(\\frac{a_i}{10}\\right)^{-1} \\left( f_{i+1}^{\\frac{a_i}{10}+1} - f_{i}^{\\frac{a_i}{10}+1}  \\right)   }}$$\n",
    "\n",
    "\n",
    "II $${\\large a_i = \\left( L_{(f_{i+1})} - L_{(f_{i})}  \\right) /  \\left( \\log{(f_{i+1})}  -\\log{(f_{i})} \\right) }$$\n",
    "\n",
    "III $${\\large b_i = L_{(f_{i})} }$$\n"
   ]
  },
  {
   "cell_type": "markdown",
   "id": "3cba6e10-f76c-4834-b3c0-3837c8948268",
   "metadata": {
    "editable": true,
    "slideshow": {
     "slide_type": "subslide"
    },
    "tags": []
   },
   "source": [
    "with $$c = \\frac{a_i}{10} $$\n",
    "\n",
    "$${\\large RMS_{jitter} = \\frac{1}{2 \\pi f_c} \\sqrt{2 \\sum_{i=1}^{K-1} 10^{\\frac{-b_i}{10}} f_i^{-c} \\left(c\\right)^{-1} \\left( f_{i+1}^{c+1} - f_{i}^{c+1}  \\right)   }}$$\n"
   ]
  },
  {
   "cell_type": "markdown",
   "id": "5eac27c7-1420-4725-90b1-444f29e4c5af",
   "metadata": {
    "editable": true,
    "slideshow": {
     "slide_type": "fragment"
    },
    "tags": []
   },
   "source": [
    "substitude with\n",
    "\n",
    "$$ s_1 = 10^{\\frac{-b_i}{10}} $$\n",
    "$$ s_2 = f_i^{-c} $$\n",
    "$$ s_3 = \\left(c\\right)^{-1}  $$\n",
    "$$ s_4 = s_2 \\cdot s_3 = f_i^{-c} \\cdot \\left(c\\right)^{-1} = \\frac{f_i^{-c}}{c} $$"
   ]
  },
  {
   "cell_type": "markdown",
   "id": "edae359c-99d4-4f29-8e14-fdb784a97e93",
   "metadata": {
    "editable": true,
    "slideshow": {
     "slide_type": "fragment"
    },
    "tags": []
   },
   "source": [
    "$$ s_5 = \\left( f_{i+1}^{c+1} - f_{i}^{c+1}  \\right) $$"
   ]
  },
  {
   "cell_type": "markdown",
   "id": "a1552490-0533-4aab-ae57-dd059d6aac76",
   "metadata": {
    "editable": true,
    "slideshow": {
     "slide_type": "subslide"
    },
    "tags": []
   },
   "source": [
    "$${\\large RMS_{jitter} = \\frac{1}{2 \\pi f_c} \\sqrt{2 \\sum_{i=1}^{K-1}\\left( s_1 \\cdot s_4 \\cdot   s_5 \\right) }}$$"
   ]
  },
  {
   "cell_type": "markdown",
   "id": "4d59333a-3ca5-4008-b87c-05229beda6ef",
   "metadata": {
    "editable": true,
    "slideshow": {
     "slide_type": "subslide"
    },
    "tags": []
   },
   "source": [
    "## Approximation of RMS jitter from L(f)/dBc/Hz"
   ]
  },
  {
   "cell_type": "code",
   "execution_count": 1,
   "id": "34e15048-54af-41b3-bad7-4fc7d6bc7283",
   "metadata": {
    "editable": true,
    "slideshow": {
     "slide_type": "skip"
    },
    "tags": []
   },
   "outputs": [],
   "source": [
    "import numpy as np\n",
    "import pandas as pd\n",
    "import matplotlib.pyplot as plt\n",
    "\n",
    "%matplotlib inline"
   ]
  },
  {
   "cell_type": "code",
   "execution_count": 2,
   "id": "19a58fa0-65c0-432e-bfc6-c13e2b130f90",
   "metadata": {
    "editable": true,
    "slideshow": {
     "slide_type": "skip"
    },
    "tags": []
   },
   "outputs": [],
   "source": [
    "# def diskretes_integral(freq, L_f_dBc, f_c):\n",
    "#     ### Berechnung mit Numpy ist einen absolute Katastrophe\n",
    "#     # Keine Fehlermeldung, wegen der Numerik und den Stützstellen\n",
    "#     # Ergebnis um den faktor 3000 daneben.\n",
    "#     ###\n",
    "\n",
    "#     # x_array = np.array(freq)\n",
    "#     # y_array = np.array(L_f_dBc)\n",
    "    \n",
    "#     # # Berechnung der Schrittweite\n",
    "#     # dx = np.diff(x_array)\n",
    " \n",
    "#     # # Berechnung des Integrals mit Trapezregel\n",
    "#     # integral = np.sum((y_array[:-1] + y_array[1:]) * dx / 2)\n",
    "#     \"\"\"\n",
    "#     Calculates the integral of phase noise over frequency.\n",
    "\n",
    "#     Parameters:\n",
    "#     freq (array): frequency array in Hz\n",
    "#     L_f_dBc (array): phase noise array in dBc/Hz\n",
    "\n",
    "#     Returns:\n",
    "#     float: integral of phase noise over frequency\n",
    "#     \"\"\"\n",
    "#     # Convert phase noise to linear scale\n",
    "#     # L_f = 10**(L_f_dBc/10)\n",
    "#     L_f = L_f_dBc\n",
    "\n",
    "#     # Calculate frequency spacing\n",
    "#     df = np.diff(freq)\n",
    "#     # print(df)\n",
    "#     df = np.insert(df, 0, df[0])\n",
    "\n",
    "#     # Calculate integral using trapezoidal rule\n",
    "#     integral = np.trapezoid(L_f, freq) - L_f[0]/2*df[0] - L_f[-1]/2*df[-1]\n",
    "    \n",
    "#     rad_jitter = np.square(2*integral)\n",
    "#     RMS_jitter = np.square(2*integral)/(2*np.pi*f_c)\n",
    "#     RMS_jitter_ps = RMS_jitter*1e-12\n",
    "#     print(f\"Das Integral beträgt: {integral}, RMSJitter: {RMS_jitter}s; {RMS_jitter_ps}ps: rad jitter {rad_jitter}\")\n",
    "#     return RMS_jitter_ps\n",
    " \n",
    "# freq =    [10,   100, 1000, 10_000, 100_000, 1_000_000, 10_000_000]\n",
    "# L_f_dBc = [-80, -100, -104,   -112,    -119,     -124,       -135]\n",
    "# f_c_MHz = 13.560000\n",
    "# RMS_jitter_ps = diskretes_integral(freq, L_f_dBc, f_c_MHz)\n",
    " \n",
    "# print(f\"RMS_jitter: {RMS_jitter_ps} ps\")\n",
    "# print(\"Erwartet wird jedoch 22.45 ps \")"
   ]
  },
  {
   "cell_type": "code",
   "execution_count": 3,
   "id": "8d2cd73b-bd4d-43eb-9a4c-c7a3b95b859c",
   "metadata": {},
   "outputs": [],
   "source": [
    "# pip freeze"
   ]
  },
  {
   "cell_type": "code",
   "execution_count": 4,
   "id": "6c27dc24-bd1e-4e9b-8a5a-a78e6d83862a",
   "metadata": {
    "editable": true,
    "slideshow": {
     "slide_type": "slide"
    },
    "tags": []
   },
   "outputs": [],
   "source": [
    "def calc_rms_jitter_from_phasenoise(freq, L_f_dBc, f_c, debug = False, break_at_limits = False):\n",
    "    a=[]\n",
    "    b=[]\n",
    "    sum_elem = []\n",
    " \n",
    "    for i in range(len(freq)-1):\n",
    "        # print(i)\n",
    "        a.append((L_f_dBc[i+1]-L_f_dBc[i])/(np.log10(freq[i+1])-np.log10(freq[i])))\n",
    "        if debug: print(f\"a{i}: {a[i]}\")\n",
    "    if debug: print(\"---\")\n",
    "    for i in range(len(freq)):\n",
    "        b.append(L_f_dBc[i])\n",
    "        if debug: print(f\"b{i}: {b[i]}\")\n",
    "    if debug: print(f\"len f: {len(freq)}, L_f_dBc {len(L_f_dBc)}\")\n",
    "    for i in range(len(freq)-1):\n",
    "        c = a[i]/10\n",
    "        # if debug: print(f\"{i}; e1 {c}; freq_i {freq[i]}\")\n",
    "        s_1 = freq[i]**(-c) * ((c)+1)**-1\n",
    "        s_2 = freq[i+1]**(c+1) - freq[i]**(c+1)\n",
    "        if debug: print(f\"{i}; freq_i {freq[i]}; e1: {c}; s_1: {s_1}; s_2: {s_2}\")\n",
    "        sum_elem.append(10**(b[i]/10) * s_1 * s_2 )\n",
    "        if break_at_limits:\n",
    "            if s_1 == 0.0 or np.isnan(s_1) or s_2 == 0.0 or np.isnan(s_2):\n",
    "                print(f\"{i}; a[{i}]: {a[i]}\\t; b[{i}]: {b[i]}\\t  c: {c}\\tfreq_i: {freq[i]}\\ts_1: {s_1}\\ts_2: {s_2}\")\n",
    "                raise ValueError(\"s_1 or s_2 is 0.0 or NaN\")\n",
    "    # print(sum_elem)\n",
    "    # print(f\"sum {np.sum(sum_elem)}\")\n",
    "    # print(2*np.sum(sum_elem))\n",
    "    # print((2*np.pi*f_c))\n",
    "    rms_jitter = np.sqrt(2*np.sum(sum_elem)) / (2*np.pi*f_c)\n",
    "    \n",
    "    rms_jitter_ps = rms_jitter/1e-12\n",
    "    # print(f\"rms_jitter: {float(rms_jitter_ps)} ps\")\n",
    "    return float(rms_jitter_ps), a, b"
   ]
  },
  {
   "cell_type": "code",
   "execution_count": 5,
   "id": "170db4c9-bc77-4d9b-848f-feb80b749c57",
   "metadata": {
    "editable": true,
    "slideshow": {
     "slide_type": "skip"
    },
    "tags": []
   },
   "outputs": [],
   "source": [
    "def search_index(arr, search_freq):\n",
    "    \"\"\"\n",
    "    Searches for the index in an ascending sorted array where the element value is closest to the search frequency.\n",
    "\n",
    "    Parameters:\n",
    "    arr (list or numpy array): Array of ascending sorted frequency values in Hz.\n",
    "    search_freq (float): The frequency value to search for.\n",
    "\n",
    "    Returns:\n",
    "    int: The index of the element in arr that is closest to search_freq.\n",
    "    \"\"\"\n",
    "    arr = np.array(arr)  # Convert arr to a Numpy array\n",
    "    # Find the index of the element in arr that is closest to search_freq\n",
    "    idx = np.abs(arr - search_freq).argmin()\n",
    "\n",
    "    # Check if the element at idx is greater than or equal to search_freq\n",
    "    if arr[idx] >= search_freq:\n",
    "        # If so, return idx\n",
    "        return idx\n",
    "    else:\n",
    "        # Otherwise, return idx + 1\n",
    "        return idx + 1"
   ]
  },
  {
   "cell_type": "code",
   "execution_count": 6,
   "id": "58cdd208-10e1-4ce8-82d6-2d26451c9b20",
   "metadata": {
    "editable": true,
    "slideshow": {
     "slide_type": "skip"
    },
    "tags": []
   },
   "outputs": [],
   "source": [
    "def plot_trace_with_fill(x_trace, y_trace, x_start, x_end):\n",
    "    \"\"\"\n",
    "    Plots a trace with a filled area between the trace and the x-axis.\n",
    "\n",
    "    Parameters:\n",
    "    -----------\n",
    "    x_trace : list of numbers\n",
    "        A list of tuples containing frequency and phase noise values.\n",
    "    y_trace : list of numbers\n",
    "        A list of phase noise values.\n",
    "    x_start : float\n",
    "        The start frequency for the RMS jitter calculation.\n",
    "    x_end : float\n",
    "        The end frequency for the RMS jitter calculation.\n",
    "\n",
    "    Returns:\n",
    "    --------\n",
    "    None\n",
    "    \"\"\"\n",
    "    # Extract relevant data and convert trace_in to a numpy array\n",
    "    # x_trace_1 = x_trace\n",
    "    # y_trace_1 = y_trace\n",
    "    x_trace_1 = np.array(x_trace)\n",
    "    y_trace_1 = np.array(y_trace)\n",
    "        \n",
    "    # Create a mask to select the relevant x and y values\n",
    "    mask_x = (x_trace_1 >= x_start) & (x_trace_1 <= x_end)\n",
    "    x = x_trace_1[mask_x]\n",
    "    y = y_trace_1[mask_x]\n",
    "    # print(len(x))\n",
    "    # print(len(y))\n",
    "    \n",
    "    # Create a mask to ignore negative values\n",
    "    mask_y = y <= 0\n",
    "    y_pos = np.zeros_like(y)\n",
    "    y_pos[mask_y] = y[mask_y]\n",
    "\n",
    "    min_value = round(min(y_trace_1)-0.5, 0)\n",
    "    # print(f\"min rounded y_trace_1 {min_value}\")\n",
    "    \n",
    "    y2=np.empty(len(mask_y))\n",
    "    y2.fill(min_value)\n",
    "\n",
    "    # Convert mask_x into Liste of indices\n",
    "    idx = np.where(mask_x)[0]\n",
    "    color = \"red\"         #\"xkcd:purpleish pink\"\n",
    "    color_gb = \"xkcd:light blue\"\n",
    "    \n",
    "    # Create Plot\n",
    "    plt.figure(figsize=(15, 8), dpi=80, facecolor='w', edgecolor='k')\n",
    "    plt.plot(x_trace_1, y_trace_1, label='trace_1_avg')\n",
    "    plt.fill_between(x, y_pos, y2, color=color_gb, interpolate=True)\n",
    "\n",
    "    # Create a line at the start and end frequencies for the RMS jitter calculation\n",
    "    plt.axvline(x_start, color=color, linestyle=\"--\", url=\"hi\", mouseover=True)\n",
    "    plt.axvline(x_end, color=color, linestyle=\"--\", url=\"hi\", mouseover=True)\n",
    "    plt.text(x_start, min_value + 1, \" <-- RMS Jitter calculation start frequency - to -\",color=color, ha=\"left\")\n",
    "    plt.text(x_end, min_value + 1, \" - stop frequency --> \", color=color, ha=\"right\")\n",
    "    \n",
    "    # plt.text(x_end, -139, \" <-- add jitter  --- >\",color=\"red\")\n",
    "    plt.plot(x_trace_1[idx], y_trace_1[idx], '-', color=color)\n",
    "    plt.title(\"Phase Noise to RMS Jitter \")\n",
    "    plt.xlabel(\"Frequency / Hz\")\n",
    "    plt.ylabel(\"Phase noise / dBc / Hz\")\n",
    "    plt.xscale('log')\n",
    "    plt.grid(which='both', axis='both', linestyle='-', color='gray')\n",
    "    plt.legend()"
   ]
  },
  {
   "cell_type": "code",
   "execution_count": 7,
   "id": "a003f9d5-3985-451c-b381-bc32d76d1216",
   "metadata": {
    "editable": true,
    "slideshow": {
     "slide_type": "subslide"
    },
    "tags": []
   },
   "outputs": [
    {
     "name": "stdout",
     "output_type": "stream",
     "text": [
      "rms_jitter: 22.446126239590715 ps\n"
     ]
    }
   ],
   "source": [
    "f_c = 13560000\n",
    "\n",
    "freq =    [10,   100, 1000, 10_000, 100_000, 1_000_000, 10_000_000]\n",
    "L_f_dBc = [-80, -100, -104,   -112,    -119,     -124,       -135]\n",
    "\n",
    "rms_jitter_ps, a, b = calc_rms_jitter_from_phasenoise(freq = freq, L_f_dBc = L_f_dBc, f_c = f_c, debug = False, break_at_limits = True)\n",
    "print(f\"rms_jitter: {float(rms_jitter_ps)} ps\")"
   ]
  },
  {
   "cell_type": "markdown",
   "id": "4bd11948-b5e3-4486-b213-0083a77d34a3",
   "metadata": {
    "editable": true,
    "slideshow": {
     "slide_type": "slide"
    },
    "tags": []
   },
   "source": [
    "### Vergleich mit dem Online Phase Noise to Jitter Calculator\n",
    "\n",
    "https://markimicrowave.com/technical-resources/tools/phase-noise-jitter-calculator/\n",
    "$$ RMS\\hspace{0.5em}Jitter:\\hspace{1em}22.45\\hspace{0.5em}ps \\hspace{1em} vs. \\hspace{1em} 22.446126239590715\\hspace{0.5em}ps $$"
   ]
  },
  {
   "cell_type": "markdown",
   "id": "d258d8fd-5f88-4e1b-a0b3-354cc7156a94",
   "metadata": {
    "editable": true,
    "slideshow": {
     "slide_type": "fragment"
    },
    "tags": []
   },
   "source": [
    "<img src=\"data:image/png;base64,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\" align=\"center\" height=\"100%\"></img></a>"
   ]
  },
  {
   "cell_type": "code",
   "execution_count": 8,
   "id": "31cd8c67-2af9-48ba-bb2d-4eac3da8ab74",
   "metadata": {
    "editable": true,
    "slideshow": {
     "slide_type": "subslide"
    },
    "tags": []
   },
   "outputs": [
    {
     "name": "stdout",
     "output_type": "stream",
     "text": [
      "rms_jitter: 22.446126239590715 ps\n"
     ]
    },
    {
     "data": {
      "image/png": "[encoded data removed]",
      "text/plain": [
       "<Figure size 1200x640 with 1 Axes>"
      ]
     },
     "metadata": {},
     "output_type": "display_data"
    }
   ],
   "source": [
    "print(f\"rms_jitter: {float(rms_jitter_ps)} ps\")\n",
    "\n",
    "plot_trace_with_fill(freq, L_f_dBc, 10, 10_000_000)"
   ]
  },
  {
   "cell_type": "markdown",
   "id": "f91ea287-41a0-4eff-8463-0b2c53e239f8",
   "metadata": {
    "editable": true,
    "slideshow": {
     "slide_type": "slide"
    },
    "tags": []
   },
   "source": [
    "## Reale Messwerte einsetzen"
   ]
  },
  {
   "cell_type": "code",
   "execution_count": 9,
   "id": "c173c566-a780-4e18-b133-5a0e3e4efb01",
   "metadata": {
    "editable": true,
    "slideshow": {
     "slide_type": "subslide"
    },
    "tags": []
   },
   "outputs": [
    {
     "data": {
      "image/png": "[encoded data removed]",
      "text/plain": [
       "<Figure size 1200x640 with 1 Axes>"
      ]
     },
     "metadata": {},
     "output_type": "display_data"
    }
   ],
   "source": [
    "from pathlib import Path\n",
    "\n",
    "path = r\"input\"\n",
    "trace_file = r\"RigolDG4162_13560kHz_10dBm_(0)_trace_1_avg.csv\"  # -> with error\n",
    "# trace_file = r\"SMB100B_13560kHz_5dBm_(0)_trace_1_avg.csv\"  # -> without error\n",
    "\n",
    "filepath = Path(path, trace_file).resolve()\n",
    "df = pd.read_csv(filepath, sep = \";\")\n",
    "freq = list(df[\"X_Freq_Hz\"])\n",
    "L_f_dBc  = list(df[\"Y_Ampl_dBc_Hz\"])\n",
    "\n",
    "start_freq_Hz = 10\n",
    "stop_freq_Hz = 10_000_000\n",
    "\n",
    "# using helper function to limit the range to be calculated\n",
    "id1 = search_index(freq, start_freq_Hz)\n",
    "id2 = search_index(freq, stop_freq_Hz)\n",
    "\n",
    "plot_trace_with_fill(freq, L_f_dBc, start_freq_Hz, stop_freq_Hz)"
   ]
  },
  {
   "cell_type": "code",
   "execution_count": 10,
   "id": "8504899d-a352-47b6-a5b7-e163390225f7",
   "metadata": {
    "editable": true,
    "slideshow": {
     "slide_type": "skip"
    },
    "tags": []
   },
   "outputs": [],
   "source": [
    "# diskretes_integral(freq = freq[id1:id2], L_f_dBc = L_f_dBc[id1:id2], f_c = f_c)"
   ]
  },
  {
   "cell_type": "code",
   "execution_count": 11,
   "id": "f6ca6aeb-fc70-4464-9fb3-0fbcaead29e1",
   "metadata": {
    "editable": true,
    "slideshow": {
     "slide_type": "subslide"
    },
    "tags": []
   },
   "outputs": [
    {
     "name": "stdout",
     "output_type": "stream",
     "text": [
      "rms jitter = nan ps\n"
     ]
    },
    {
     "name": "stderr",
     "output_type": "stream",
     "text": [
      "/tmp/ipykernel_18767/2795142771.py:19: RuntimeWarning: overflow encountered in scalar power\n",
      "  s_2 = freq[i+1]**(c+1) - freq[i]**(c+1)\n",
      "/tmp/ipykernel_18767/2795142771.py:19: RuntimeWarning: invalid value encountered in scalar subtract\n",
      "  s_2 = freq[i+1]**(c+1) - freq[i]**(c+1)\n"
     ]
    }
   ],
   "source": [
    "rms_jitter_ps, a, b = calc_rms_jitter_from_phasenoise(freq = freq[id1:id2], L_f_dBc = L_f_dBc[id1:id2], f_c = f_c, debug = False, break_at_limits = False)\n",
    "print(f\"rms jitter = {rms_jitter_ps} ps\")"
   ]
  },
  {
   "cell_type": "markdown",
   "id": "fe1ba6a0-fa55-4b1f-ad8d-d53ddb701f57",
   "metadata": {
    "editable": true,
    "slideshow": {
     "slide_type": "slide"
    },
    "tags": []
   },
   "source": [
    "# Eingrenzen des Fehlers"
   ]
  },
  {
   "cell_type": "markdown",
   "id": "cda0a1aa-e335-4356-893f-62e5615bee9c",
   "metadata": {
    "editable": true,
    "slideshow": {
     "slide_type": "fragment"
    },
    "tags": []
   },
   "source": [
    "- using variable break_at_limits to break at the first unexpected value\n",
    "- Erweiterung der Funktion. Abbruch, wenn ein unerwartetes ergebnis eintritt. Fläche == 0."
   ]
  },
  {
   "cell_type": "code",
   "execution_count": 12,
   "id": "f0cdd69b-4fd6-482b-b7af-6550f745df25",
   "metadata": {
    "editable": true,
    "slideshow": {
     "slide_type": "subslide"
    },
    "tags": []
   },
   "outputs": [
    {
     "name": "stdout",
     "output_type": "stream",
     "text": [
      "695; a[695]: 1391.767108508132\t; b[695]: -130.044266\t  c: 139.1767108508132\tfreq_i: 29853.820313\ts_1: 0.0\ts_2: nan\n"
     ]
    },
    {
     "name": "stderr",
     "output_type": "stream",
     "text": [
      "/tmp/ipykernel_17685/2795142771.py:19: RuntimeWarning: overflow encountered in scalar power\n",
      "  s_2 = freq[i+1]**(c+1) - freq[i]**(c+1)\n",
      "/tmp/ipykernel_17685/2795142771.py:19: RuntimeWarning: invalid value encountered in scalar subtract\n",
      "  s_2 = freq[i+1]**(c+1) - freq[i]**(c+1)\n"
     ]
    },
    {
     "ename": "ValueError",
     "evalue": "s_1 or s_2 is 0.0 or NaN",
     "output_type": "error",
     "traceback": [
      "\u001b[0;31m---------------------------------------------------------------------------\u001b[0m",
      "\u001b[0;31mValueError\u001b[0m                                Traceback (most recent call last)",
      "Cell \u001b[0;32mIn[12], line 1\u001b[0m\n\u001b[0;32m----> 1\u001b[0m rms_jitter_ps, a, b \u001b[38;5;241m=\u001b[39m \u001b[43mcalc_rms_jitter_from_phasenoise\u001b[49m\u001b[43m(\u001b[49m\u001b[43mfreq\u001b[49m\u001b[43m \u001b[49m\u001b[38;5;241;43m=\u001b[39;49m\u001b[43m \u001b[49m\u001b[43mfreq\u001b[49m\u001b[43m[\u001b[49m\u001b[43mid1\u001b[49m\u001b[43m:\u001b[49m\u001b[43mid2\u001b[49m\u001b[43m]\u001b[49m\u001b[43m,\u001b[49m\u001b[43m \u001b[49m\u001b[43mL_f_dBc\u001b[49m\u001b[43m \u001b[49m\u001b[38;5;241;43m=\u001b[39;49m\u001b[43m \u001b[49m\u001b[43mL_f_dBc\u001b[49m\u001b[43m[\u001b[49m\u001b[43mid1\u001b[49m\u001b[43m:\u001b[49m\u001b[43mid2\u001b[49m\u001b[43m]\u001b[49m\u001b[43m,\u001b[49m\u001b[43m \u001b[49m\u001b[43mf_c\u001b[49m\u001b[43m \u001b[49m\u001b[38;5;241;43m=\u001b[39;49m\u001b[43m \u001b[49m\u001b[43mf_c\u001b[49m\u001b[43m,\u001b[49m\u001b[43m \u001b[49m\u001b[43mdebug\u001b[49m\u001b[43m \u001b[49m\u001b[38;5;241;43m=\u001b[39;49m\u001b[43m \u001b[49m\u001b[38;5;28;43;01mFalse\u001b[39;49;00m\u001b[43m,\u001b[49m\u001b[43m \u001b[49m\u001b[43mbreak_at_limits\u001b[49m\u001b[43m \u001b[49m\u001b[38;5;241;43m=\u001b[39;49m\u001b[43m \u001b[49m\u001b[38;5;28;43;01mTrue\u001b[39;49;00m\u001b[43m)\u001b[49m\n\u001b[1;32m      2\u001b[0m rms_jitter_ps\n",
      "Cell \u001b[0;32mIn[4], line 25\u001b[0m, in \u001b[0;36mcalc_rms_jitter_from_phasenoise\u001b[0;34m(freq, L_f_dBc, f_c, debug, break_at_limits)\u001b[0m\n\u001b[1;32m     23\u001b[0m         \u001b[38;5;28;01mif\u001b[39;00m s_1 \u001b[38;5;241m==\u001b[39m \u001b[38;5;241m0.0\u001b[39m \u001b[38;5;129;01mor\u001b[39;00m np\u001b[38;5;241m.\u001b[39misnan(s_1) \u001b[38;5;129;01mor\u001b[39;00m s_2 \u001b[38;5;241m==\u001b[39m \u001b[38;5;241m0.0\u001b[39m \u001b[38;5;129;01mor\u001b[39;00m np\u001b[38;5;241m.\u001b[39misnan(s_2):\n\u001b[1;32m     24\u001b[0m             \u001b[38;5;28mprint\u001b[39m(\u001b[38;5;124mf\u001b[39m\u001b[38;5;124m\"\u001b[39m\u001b[38;5;132;01m{\u001b[39;00mi\u001b[38;5;132;01m}\u001b[39;00m\u001b[38;5;124m; a[\u001b[39m\u001b[38;5;132;01m{\u001b[39;00mi\u001b[38;5;132;01m}\u001b[39;00m\u001b[38;5;124m]: \u001b[39m\u001b[38;5;132;01m{\u001b[39;00ma[i]\u001b[38;5;132;01m}\u001b[39;00m\u001b[38;5;130;01m\\t\u001b[39;00m\u001b[38;5;124m; b[\u001b[39m\u001b[38;5;132;01m{\u001b[39;00mi\u001b[38;5;132;01m}\u001b[39;00m\u001b[38;5;124m]: \u001b[39m\u001b[38;5;132;01m{\u001b[39;00mb[i]\u001b[38;5;132;01m}\u001b[39;00m\u001b[38;5;130;01m\\t\u001b[39;00m\u001b[38;5;124m  c: \u001b[39m\u001b[38;5;132;01m{\u001b[39;00mc\u001b[38;5;132;01m}\u001b[39;00m\u001b[38;5;130;01m\\t\u001b[39;00m\u001b[38;5;124mfreq_i: \u001b[39m\u001b[38;5;132;01m{\u001b[39;00mfreq[i]\u001b[38;5;132;01m}\u001b[39;00m\u001b[38;5;130;01m\\t\u001b[39;00m\u001b[38;5;124ms_1: \u001b[39m\u001b[38;5;132;01m{\u001b[39;00ms_1\u001b[38;5;132;01m}\u001b[39;00m\u001b[38;5;130;01m\\t\u001b[39;00m\u001b[38;5;124ms_2: \u001b[39m\u001b[38;5;132;01m{\u001b[39;00ms_2\u001b[38;5;132;01m}\u001b[39;00m\u001b[38;5;124m\"\u001b[39m)\n\u001b[0;32m---> 25\u001b[0m             \u001b[38;5;28;01mraise\u001b[39;00m \u001b[38;5;167;01mValueError\u001b[39;00m(\u001b[38;5;124m\"\u001b[39m\u001b[38;5;124ms_1 or s_2 is 0.0 or NaN\u001b[39m\u001b[38;5;124m\"\u001b[39m)\n\u001b[1;32m     26\u001b[0m \u001b[38;5;66;03m# print(sum_elem)\u001b[39;00m\n\u001b[1;32m     27\u001b[0m \u001b[38;5;66;03m# print(f\"sum {np.sum(sum_elem)}\")\u001b[39;00m\n\u001b[1;32m     28\u001b[0m \u001b[38;5;66;03m# print(2*np.sum(sum_elem))\u001b[39;00m\n\u001b[1;32m     29\u001b[0m \u001b[38;5;66;03m# print((2*np.pi*f_c))\u001b[39;00m\n\u001b[1;32m     30\u001b[0m rms_jitter \u001b[38;5;241m=\u001b[39m np\u001b[38;5;241m.\u001b[39msqrt(\u001b[38;5;241m2\u001b[39m\u001b[38;5;241m*\u001b[39mnp\u001b[38;5;241m.\u001b[39msum(sum_elem)) \u001b[38;5;241m/\u001b[39m (\u001b[38;5;241m2\u001b[39m\u001b[38;5;241m*\u001b[39mnp\u001b[38;5;241m.\u001b[39mpi\u001b[38;5;241m*\u001b[39mf_c)\n",
      "\u001b[0;31mValueError\u001b[0m: s_1 or s_2 is 0.0 or NaN"
     ]
    }
   ],
   "source": [
    "rms_jitter_ps, a, b = calc_rms_jitter_from_phasenoise(freq = freq[id1:id2], L_f_dBc = L_f_dBc[id1:id2], f_c = f_c, debug = False, break_at_limits = True)\n",
    "rms_jitter_ps"
   ]
  },
  {
   "cell_type": "markdown",
   "id": "9ecac6f6-9b5a-4b90-b6ae-92ad5757b474",
   "metadata": {
    "editable": true,
    "slideshow": {
     "slide_type": "slide"
    },
    "tags": []
   },
   "source": [
    "## Gleichung und Werte des Elemets $s_2$ untersuchen\n",
    "$$ s_2 = f_i^{-c} = \\frac{1}{f_i^{c}} $$"
   ]
  },
  {
   "cell_type": "markdown",
   "id": "a84809ad-996b-4b44-b925-be39712e5c6f",
   "metadata": {
    "editable": true,
    "slideshow": {
     "slide_type": "fragment"
    },
    "tags": []
   },
   "source": [
    "Werte aus der letzten Ausführung / Fehlerortung\n",
    "$$freq_i = f_i = 29853.820313$$\n",
    "$$c = 139.1767108508132$$"
   ]
  },
  {
   "cell_type": "markdown",
   "id": "32c9146d-db77-41be-a670-7f28a276b7d0",
   "metadata": {
    "editable": true,
    "slideshow": {
     "slide_type": "fragment"
    },
    "tags": []
   },
   "source": [
    "\n",
    "$$ s_2 = 29853.820313^{-139.1767108508132} = \\frac{1}{29853.820313^{ 139.1767108508132}} $$\n"
   ]
  },
  {
   "cell_type": "markdown",
   "id": "a9cd5a6c-72cd-4895-abcd-b6e8ff71cff4",
   "metadata": {
    "editable": true,
    "slideshow": {
     "slide_type": "fragment"
    },
    "tags": []
   },
   "source": [
    "Zusächst Betrachtung als Integer.\n",
    "\n",
    "$$ s_2 = 29853^{-139} = \\frac{1}{29853^{139}} $$"
   ]
  },
  {
   "cell_type": "markdown",
   "id": "1348c5dd-4e74-4b6f-9c8c-8949ddd21463",
   "metadata": {
    "editable": true,
    "slideshow": {
     "slide_type": "slide"
    },
    "tags": []
   },
   "source": [
    "### Untersuchung der Zwischenergebnisse mit Integer"
   ]
  },
  {
   "cell_type": "code",
   "execution_count": 13,
   "id": "b1f23b64-0080-4a7c-afc8-189d0730abed",
   "metadata": {
    "editable": true,
    "slideshow": {
     "slide_type": "fragment"
    },
    "tags": []
   },
   "outputs": [],
   "source": [
    "freq_i = 29853\n",
    "c = 139"
   ]
  },
  {
   "cell_type": "markdown",
   "id": "f4c96386-6d7a-446b-b0a6-1f47c82cb7fc",
   "metadata": {
    "editable": true,
    "slideshow": {
     "slide_type": "fragment"
    },
    "tags": []
   },
   "source": [
    "$$ s_2 = f_i^{-c}  $$"
   ]
  },
  {
   "cell_type": "code",
   "execution_count": 14,
   "id": "8107618a-d05d-4773-b3e3-bc8d0fa75a2a",
   "metadata": {
    "editable": true,
    "slideshow": {
     "slide_type": "fragment"
    },
    "tags": []
   },
   "outputs": [
    {
     "name": "stdout",
     "output_type": "stream",
     "text": [
      "0.0\n"
     ]
    }
   ],
   "source": [
    "s_2 = freq_i**(-c)\n",
    "print(s_2)"
   ]
  },
  {
   "cell_type": "markdown",
   "id": "acee3a75-983a-4098-aff7-1ad5d797e260",
   "metadata": {
    "editable": true,
    "slideshow": {
     "slide_type": "fragment"
    },
    "tags": []
   },
   "source": [
    "  - $s_2$ ist Null, aber es sollte eine sehr kleine Zahl sein"
   ]
  },
  {
   "cell_type": "markdown",
   "id": "d4731284-6da1-4539-9fef-78eb561ef3a6",
   "metadata": {
    "editable": true,
    "slideshow": {
     "slide_type": "subslide"
    },
    "tags": []
   },
   "source": [
    "$$ s_2 = f_i^{-c}  \\Rightarrow  s_2 = \\frac{1}{f_i^{c}} $$"
   ]
  },
  {
   "cell_type": "code",
   "execution_count": 15,
   "id": "4aef6255-6ff3-463f-9f21-5bc44ef5a422",
   "metadata": {
    "editable": true,
    "slideshow": {
     "slide_type": "fragment"
    },
    "tags": []
   },
   "outputs": [
    {
     "name": "stdout",
     "output_type": "stream",
     "text": [
      "0.0\n"
     ]
    }
   ],
   "source": [
    "s_2 = 1/freq_i**(c)\n",
    "print(s_2)"
   ]
  },
  {
   "cell_type": "markdown",
   "id": "7bd1fd0d-3c23-4c2c-9b84-254d7675a516",
   "metadata": {
    "editable": true,
    "slideshow": {
     "slide_type": "subslide"
    },
    "tags": []
   },
   "source": [
    "$$ value = f_i^{c} $$"
   ]
  },
  {
   "cell_type": "code",
   "execution_count": 16,
   "id": "99009c71-c7be-4a49-af56-f44e88415d29",
   "metadata": {
    "editable": true,
    "slideshow": {
     "slide_type": "fragment"
    },
    "tags": []
   },
   "outputs": [
    {
     "name": "stdout",
     "output_type": "stream",
     "text": [
      "10551868086657404248544082762817153259110717101163624661655187479522045110502461712032171704678070920291314981250169630665055268631469072432631753594497355928095606481300489498036496245513087626221480506217588156438902950559267163828047615160850043804116111334305805829680072035954788003098808308047168292736533633740656316107715328356801357839737107004305113808648891572964688495969202658864855762784550616504255483418309824327168792102095389934330233591272827703749624423291620209093480678042829302129199852459938596467373462724742460255260522543613091050590154269269594494799930080646175547792159940111393657201620742117\n"
     ]
    }
   ],
   "source": [
    "value = freq_i**(c)\n",
    "print(value)"
   ]
  },
  {
   "cell_type": "code",
   "execution_count": 17,
   "id": "857468b5-4625-437d-86ac-1a38544fd755",
   "metadata": {
    "editable": true,
    "slideshow": {
     "slide_type": "fragment"
    },
    "tags": []
   },
   "outputs": [
    {
     "data": {
      "text/plain": [
       "10551868086657404248544082762817153259110717101163624661655187479522045110502461712032171704678070920291314981250169630665055268631469072432631753594497355928095606481300489498036496245513087626221480506217588156438902950559267163828047615160850043804116111334305805829680072035954788003098808308047168292736533633740656316107715328356801357839737107004305113808648891572964688495969202658864855762784550616504255483418309824327168792102095389934330233591272827703749624423291620209093480678042829302129199852459938596467373462724742460255260522543613091050590154269269594494799930080646175547792159940111393657201620742117"
      ]
     },
     "execution_count": 17,
     "metadata": {},
     "output_type": "execute_result"
    }
   ],
   "source": [
    "s_2 = pow(freq_i,c)\n",
    "s_2"
   ]
  },
  {
   "cell_type": "markdown",
   "id": "d0d4e1fd-69a5-4b65-8751-42ac7d8bf8c9",
   "metadata": {
    "editable": true,
    "slideshow": {
     "slide_type": "slide"
    },
    "tags": []
   },
   "source": [
    "### Erneute Prüfung mit Float-Werten"
   ]
  },
  {
   "cell_type": "code",
   "execution_count": 18,
   "id": "ad47a645-0c1e-414a-828a-8d906a0a3022",
   "metadata": {
    "editable": true,
    "slideshow": {
     "slide_type": "fragment"
    },
    "tags": []
   },
   "outputs": [],
   "source": [
    "freq_i = 29853.820313\n",
    "c = 139.1767108508132"
   ]
  },
  {
   "cell_type": "markdown",
   "id": "db62bc89-85a4-4199-9f47-f20fce9a710c",
   "metadata": {
    "editable": true,
    "slideshow": {
     "slide_type": "fragment"
    },
    "tags": []
   },
   "source": [
    "$$ s_2 = f_i^{-c}  $$"
   ]
  },
  {
   "cell_type": "code",
   "execution_count": 19,
   "id": "f56b318b-8db9-4a37-9621-7df14c53b866",
   "metadata": {
    "editable": true,
    "slideshow": {
     "slide_type": "fragment"
    },
    "tags": []
   },
   "outputs": [
    {
     "name": "stdout",
     "output_type": "stream",
     "text": [
      "0.0\n"
     ]
    }
   ],
   "source": [
    "s_2 = freq_i**(-c)\n",
    "print(s_2)"
   ]
  },
  {
   "cell_type": "markdown",
   "id": "a95a4734-2944-4743-8df3-dfd1df807ab8",
   "metadata": {
    "editable": true,
    "slideshow": {
     "slide_type": "fragment"
    },
    "tags": []
   },
   "source": [
    "  - Und wieder. $s_2$ ist Null, aber es sollte eine sehr kleine Zahl sein"
   ]
  },
  {
   "cell_type": "code",
   "execution_count": 20,
   "id": "b82bc627-af90-4598-a2bb-f68c705a21f8",
   "metadata": {
    "editable": true,
    "slideshow": {
     "slide_type": "fragment"
    },
    "tags": []
   },
   "outputs": [
    {
     "data": {
      "text/plain": [
       "\u001b[0;31mType:\u001b[0m        float\n",
       "\u001b[0;31mString form:\u001b[0m 0.0\n",
       "\u001b[0;31mDocstring:\u001b[0m   Convert a string or number to a floating point number, if possible."
      ]
     },
     "metadata": {},
     "output_type": "display_data"
    }
   ],
   "source": [
    "s_2?"
   ]
  },
  {
   "cell_type": "markdown",
   "id": "b0cb8a5a-fe09-4068-ba2d-3b80422feffd",
   "metadata": {
    "editable": true,
    "slideshow": {
     "slide_type": "subslide"
    },
    "tags": []
   },
   "source": [
    "Umstellen der Formel, vieleicht hat man mehr Glück"
   ]
  },
  {
   "cell_type": "markdown",
   "id": "eb7ce954-8ae6-4c28-a743-545540d82e99",
   "metadata": {
    "editable": true,
    "slideshow": {
     "slide_type": "fragment"
    },
    "tags": []
   },
   "source": [
    "$$ s_2 = f_i^{-c}  \\Rightarrow  s_2 = \\frac{1}{f_i^{c}} $$"
   ]
  },
  {
   "cell_type": "code",
   "execution_count": 21,
   "id": "f755a5f9-093e-4b97-a24a-688eb9f4c6b7",
   "metadata": {
    "editable": true,
    "slideshow": {
     "slide_type": "fragment"
    },
    "tags": []
   },
   "outputs": [
    {
     "ename": "OverflowError",
     "evalue": "(34, 'Numerical result out of range')",
     "output_type": "error",
     "traceback": [
      "\u001b[0;31m---------------------------------------------------------------------------\u001b[0m",
      "\u001b[0;31mOverflowError\u001b[0m                             Traceback (most recent call last)",
      "Cell \u001b[0;32mIn[21], line 1\u001b[0m\n\u001b[0;32m----> 1\u001b[0m s_2 \u001b[38;5;241m=\u001b[39m \u001b[38;5;241m1\u001b[39m\u001b[38;5;241m/\u001b[39m\u001b[43mfreq_i\u001b[49m\u001b[38;5;241;43m*\u001b[39;49m\u001b[38;5;241;43m*\u001b[39;49m\u001b[43m(\u001b[49m\u001b[43mc\u001b[49m\u001b[43m)\u001b[49m\n\u001b[1;32m      2\u001b[0m \u001b[38;5;28mprint\u001b[39m(s_2)\n",
      "\u001b[0;31mOverflowError\u001b[0m: (34, 'Numerical result out of range')"
     ]
    }
   ],
   "source": [
    "s_2 = 1/freq_i**(c)\n",
    "print(s_2)"
   ]
  },
  {
   "cell_type": "markdown",
   "id": "4331d63c-b6e9-40e3-80f3-b473d3dcd9a3",
   "metadata": {
    "editable": true,
    "slideshow": {
     "slide_type": "fragment"
    },
    "tags": []
   },
   "source": [
    "Wenn die Formel umgestellt wird, erhalten wir einen Fehler anstelle von Null."
   ]
  },
  {
   "cell_type": "markdown",
   "id": "1450953c-7af3-4377-ba39-94b720facb4e",
   "metadata": {
    "editable": true,
    "slideshow": {
     "slide_type": "subslide"
    },
    "tags": []
   },
   "source": [
    "$$ value = f_i^{c} $$"
   ]
  },
  {
   "cell_type": "code",
   "execution_count": 22,
   "id": "074bf1ba-9fa9-4a0b-a3c7-bf4a12c62fa8",
   "metadata": {
    "editable": true,
    "slideshow": {
     "slide_type": "fragment"
    },
    "tags": []
   },
   "outputs": [
    {
     "ename": "OverflowError",
     "evalue": "(34, 'Numerical result out of range')",
     "output_type": "error",
     "traceback": [
      "\u001b[0;31m---------------------------------------------------------------------------\u001b[0m",
      "\u001b[0;31mOverflowError\u001b[0m                             Traceback (most recent call last)",
      "Cell \u001b[0;32mIn[22], line 1\u001b[0m\n\u001b[0;32m----> 1\u001b[0m value \u001b[38;5;241m=\u001b[39m \u001b[43mfreq_i\u001b[49m\u001b[38;5;241;43m*\u001b[39;49m\u001b[38;5;241;43m*\u001b[39;49m\u001b[43m(\u001b[49m\u001b[43mc\u001b[49m\u001b[43m)\u001b[49m\n\u001b[1;32m      2\u001b[0m \u001b[38;5;28mprint\u001b[39m(value)\n",
      "\u001b[0;31mOverflowError\u001b[0m: (34, 'Numerical result out of range')"
     ]
    }
   ],
   "source": [
    "value = freq_i**(c)\n",
    "print(value)"
   ]
  },
  {
   "cell_type": "code",
   "execution_count": 23,
   "id": "5fe688eb-0e0b-41d5-81d6-59bbd55606a8",
   "metadata": {
    "editable": true,
    "slideshow": {
     "slide_type": "fragment"
    },
    "tags": []
   },
   "outputs": [
    {
     "ename": "OverflowError",
     "evalue": "(34, 'Numerical result out of range')",
     "output_type": "error",
     "traceback": [
      "\u001b[0;31m---------------------------------------------------------------------------\u001b[0m",
      "\u001b[0;31mOverflowError\u001b[0m                             Traceback (most recent call last)",
      "Cell \u001b[0;32mIn[23], line 1\u001b[0m\n\u001b[0;32m----> 1\u001b[0m value \u001b[38;5;241m=\u001b[39m \u001b[38;5;28;43mpow\u001b[39;49m\u001b[43m(\u001b[49m\u001b[43mfreq_i\u001b[49m\u001b[43m,\u001b[49m\u001b[43m \u001b[49m\u001b[43m(\u001b[49m\u001b[43mc\u001b[49m\u001b[43m)\u001b[49m\u001b[43m)\u001b[49m\n\u001b[1;32m      2\u001b[0m \u001b[38;5;28mprint\u001b[39m(value)\n",
      "\u001b[0;31mOverflowError\u001b[0m: (34, 'Numerical result out of range')"
     ]
    }
   ],
   "source": [
    "value = pow(freq_i, (c))\n",
    "print(value)"
   ]
  },
  {
   "cell_type": "markdown",
   "id": "756b214c-509d-40a8-8bfe-9bc3a10888f0",
   "metadata": {
    "editable": true,
    "slideshow": {
     "slide_type": "slide"
    },
    "tags": []
   },
   "source": [
    "# Wo liegen die Fließkommagrenzen in Python"
   ]
  },
  {
   "cell_type": "code",
   "execution_count": 24,
   "id": "af9db735-0d69-4433-9fa8-b51d8e42fd3f",
   "metadata": {
    "editable": true,
    "slideshow": {
     "slide_type": "subslide"
    },
    "tags": []
   },
   "outputs": [
    {
     "name": "stdout",
     "output_type": "stream",
     "text": [
      "Größte darstellbare Fließkommazahl: 1.7976931348623157e+308\n",
      "Kleinste darstellbare positive Fließkommazahl: 2.2250738585072014e-308\n",
      "Abstand zwischen 1 und der nächstgelegenen darstellbaren Fließkommazahl: 2.220446049250313e-16\n"
     ]
    }
   ],
   "source": [
    "import sys\n",
    "\n",
    "print(f\"Größte darstellbare Fließkommazahl: {sys.float_info.max}\")\n",
    "print(f\"Kleinste darstellbare positive Fließkommazahl: {sys.float_info.min}\")\n",
    "print(f\"Abstand zwischen 1 und der nächstgelegenen darstellbaren Fließkommazahl: {sys.float_info.epsilon}\")"
   ]
  },
  {
   "cell_type": "markdown",
   "id": "2bfc986d-c5ae-4eb7-ab85-420b87a179b4",
   "metadata": {
    "editable": true,
    "slideshow": {
     "slide_type": "fragment"
    },
    "tags": []
   },
   "source": [
    "Doppelt geprüft mit unserem Taschenrechner.\n",
    "\n",
    "$$ {with}\\hspace{1em} c = 139.1767108508132\\hspace{1em} and\\hspace{1em} f_i = 29853.820313 \\hspace{1em} \\Rightarrow  \\hspace{1em} s_2 = \\frac{1}{f_i^{c}} = 1.528378218..\\cdot 10^{-623}  $$\n",
    "$$ 1.528378218..\\cdot 10^{-623}  \\ll 2.2250738585072014e-308 $$"
   ]
  },
  {
   "cell_type": "markdown",
   "id": "3d2624b1-8ddb-4e9f-b1db-b986738eff89",
   "metadata": {
    "editable": true,
    "slideshow": {
     "slide_type": "subslide"
    },
    "tags": []
   },
   "source": [
    "Hier findst du weitere Details zu den Fließkommagrenzen und Problemen\n",
    "- https://docs.python.org/3/tutorial/floatingpoint.html\n",
    "- https://jvns.ca/blog/2023/01/13/examples-of-floating-point-problems/"
   ]
  },
  {
   "cell_type": "markdown",
   "id": "ae98f613-dade-4779-a3f9-4b3b17d75de9",
   "metadata": {
    "editable": true,
    "slideshow": {
     "slide_type": "subslide"
    },
    "tags": []
   },
   "source": [
    "Wir brauchen eine höhere Genauigkeit/Präzision.\n",
    "\n",
    "Die Bibliothek decimal schafft hier Abhilfe.\n",
    "- https://docs.python.org/3/library/decimal.html\n",
    "\n",
    "``` python\n",
    "from decimal import Decimal\n",
    "```"
   ]
  },
  {
   "cell_type": "markdown",
   "id": "9cee1afa-7158-4e2d-b327-2774fe5f9cf9",
   "metadata": {
    "editable": true,
    "slideshow": {
     "slide_type": "slide"
    },
    "tags": []
   },
   "source": [
    "# Handhabung von Float zu Dezimal ändern"
   ]
  },
  {
   "cell_type": "code",
   "execution_count": 25,
   "id": "fa4c68a4-6f36-4221-be04-b860b94bf7e0",
   "metadata": {
    "editable": true,
    "slideshow": {
     "slide_type": "subslide"
    },
    "tags": []
   },
   "outputs": [],
   "source": [
    "from decimal import Decimal"
   ]
  },
  {
   "cell_type": "code",
   "execution_count": 26,
   "id": "c0d16e3c-0544-452c-89f3-b56567141980",
   "metadata": {
    "editable": true,
    "slideshow": {
     "slide_type": "fragment"
    },
    "tags": []
   },
   "outputs": [],
   "source": [
    "\n",
    "freq_i = 29853.820313\n",
    "c = 139.1767108508132\n"
   ]
  },
  {
   "cell_type": "code",
   "execution_count": 27,
   "id": "252d9c00-eb9e-4cb7-b18f-8c461eed0e2a",
   "metadata": {
    "editable": true,
    "slideshow": {
     "slide_type": "skip"
    },
    "tags": []
   },
   "outputs": [
    {
     "name": "stdout",
     "output_type": "stream",
     "text": [
      "29853,820313\n",
      "139,1767108508132\n"
     ]
    }
   ],
   "source": [
    "print(str(freq_i).replace(\".\", \",\"))\n",
    "print(str(c).replace(\".\", \",\"))\n",
    "# 1   ÷   ( 9885,52832   ^   200,65714918019927 ) = 2,3698026413695585769738634875228e-802"
   ]
  },
  {
   "cell_type": "markdown",
   "id": "ba99fb05-0d32-472a-b412-e15f553047d6",
   "metadata": {
    "editable": true,
    "slideshow": {
     "slide_type": "fragment"
    },
    "tags": []
   },
   "source": [
    "$$ s_2 = \\frac{1}{f_i^{c}} $$"
   ]
  },
  {
   "cell_type": "code",
   "execution_count": 28,
   "id": "3d6dd81b-9cba-438e-a0ff-52c6a6a5abd8",
   "metadata": {
    "editable": true,
    "slideshow": {
     "slide_type": "fragment"
    },
    "tags": []
   },
   "outputs": [
    {
     "name": "stdout",
     "output_type": "stream",
     "text": [
      "1.528378218781226631847091761E-623\n"
     ]
    }
   ],
   "source": [
    "import time\n",
    "s_2 = 1/Decimal(freq_i)**Decimal(c)\n",
    "print(s_2)"
   ]
  },
  {
   "cell_type": "code",
   "execution_count": 29,
   "id": "54ef037b-5780-4872-bd62-62fdf751fafe",
   "metadata": {
    "editable": true,
    "slideshow": {
     "slide_type": "subslide"
    },
    "tags": []
   },
   "outputs": [
    {
     "data": {
      "text/plain": [
       "\u001b[0;31mType:\u001b[0m        Decimal\n",
       "\u001b[0;31mString form:\u001b[0m 1.528378218781226631847091761E-623\n",
       "\u001b[0;31mFile:\u001b[0m        /usr/lib/python3.10/decimal.py\n",
       "\u001b[0;31mDocstring:\u001b[0m  \n",
       "Construct a new Decimal object. 'value' can be an integer, string, tuple,\n",
       "or another Decimal object. If no value is given, return Decimal('0'). The\n",
       "context does not affect the conversion and is only passed to determine if\n",
       "the InvalidOperation trap is active."
      ]
     },
     "metadata": {},
     "output_type": "display_data"
    }
   ],
   "source": [
    "s_2?"
   ]
  },
  {
   "cell_type": "markdown",
   "id": "392fd353-8829-47ae-b8db-c9569f2b18d5",
   "metadata": {
    "editable": true,
    "slideshow": {
     "slide_type": "fragment"
    },
    "tags": []
   },
   "source": [
    "### Zur Erinnerung geprüft mit unserem Taschenrechner.\n",
    "- windows, MAC, linux"
   ]
  },
  {
   "cell_type": "markdown",
   "id": "40b00df2-2bbc-4d08-badc-7f481825afbb",
   "metadata": {
    "editable": true,
    "slideshow": {
     "slide_type": "fragment"
    },
    "tags": []
   },
   "source": [
    "\n",
    "$1   ÷   ( 9885,52832   ^   {200,65714918019927} ) = 2,3698026413695585769738634875228e-802$\n"
   ]
  },
  {
   "cell_type": "markdown",
   "id": "55a8c16f-ffe4-46b9-aa2b-92c04d07809a",
   "metadata": {
    "editable": true,
    "slideshow": {
     "slide_type": "fragment"
    },
    "tags": []
   },
   "source": [
    "Your result  -> $s_2 = 2.369802641369601515389619695608959173869778617122999579149940894508929177691605875403511398943082566e-802$"
   ]
  },
  {
   "cell_type": "markdown",
   "id": "fb384f06-0789-4ff3-8c21-d41efcb9acf7",
   "metadata": {
    "editable": true,
    "slideshow": {
     "slide_type": "slide"
    },
    "tags": []
   },
   "source": [
    "# Gleichungen zur Berechnung des RMS Jitter aus dem Phasenrauschen\n",
    "\n",
    "I $${\\LARGE a_i = \\left( L_{(f_{i+1})} - L_{(f_{i})}  \\right) /  \\left( \\log{(f_{i+1})}  -\\log{(f_{i})} \\right) }$$\n",
    "\n",
    "II $${\\LARGE b_i = L_{(f_{i})} }$$\n",
    "\n",
    "III $${\\LARGE RMS_{jitter} = \\frac{1}{2 \\pi f_c} \\sqrt{2 \\sum_{i=1}^{K-1} 10^{\\frac{-b_i}{10}} f_i^{\\frac{-a_i}{10}} \\left(\\frac{a_i}{10}\\right)^{-1} \\left( f_{i+1}^{\\frac{a_i}{10}+1} - f_{i}^{\\frac{a_i}{10}+1}  \\right)   }}$$\n",
    "\n",
    "with $$c = \\frac{a_i}{10} $$\n",
    "\n",
    "$${\\LARGE RMS_{jitter} = \\frac{1}{2 \\pi f_c} \\sqrt{2 \\sum_{i=1}^{K-1} 10^{\\frac{-b_i}{10}} f_i^{-c} \\left(c\\right)^{-1} \\left( f_{i+1}^{c+1} - f_{i}^{c+1}  \\right)   }}$$\n",
    "substitude with\n",
    "\n",
    "$$ s_1 = 10^{\\frac{-b_i}{10}} $$\n",
    "$$ s_2 = f_i^{-c} $$\n",
    "$$ s_3 = \\left(c\\right)^{-1}  $$\n",
    "\n",
    "$$ s_4 = s_2 \\cdot s_3 = f_i^{-c} \\cdot \\left(c\\right)^{-1} = \\frac{f_i^{-c}}{c} $$\n",
    "\n",
    "$$ s_5 = \\left( f_{i+1}^{c+1} - f_{i}^{c+1}  \\right) $$\n",
    "\n",
    "\n",
    "\n",
    "$${\\LARGE RMS_{jitter} = \\frac{1}{2 \\pi f_c} \\sqrt{2 \\sum_{i=1}^{K-1}\\left( s_1 \\cdot s_4 \\cdot   s_5 \\right) }}$$"
   ]
  },
  {
   "cell_type": "markdown",
   "id": "6e2f3005-5593-40cd-a4c1-9868cfa0380b",
   "metadata": {
    "editable": true,
    "slideshow": {
     "slide_type": "slide"
    },
    "tags": []
   },
   "source": [
    "# Überarbeitung der Funktion zur Verwendung von Decimal"
   ]
  },
  {
   "cell_type": "code",
   "execution_count": 30,
   "id": "29741b94-ad9e-488d-8ed0-3094a0f57188",
   "metadata": {
    "editable": true,
    "slideshow": {
     "slide_type": "slide"
    },
    "tags": []
   },
   "outputs": [],
   "source": [
    "from decimal import Decimal\n",
    "# # # # #  # # Berechnung OK\n",
    "def calc_rms_jitter_from_phasenoise(freq, L_f_dBc, f_c, debug = False, break_at_limits = False):\n",
    "    \"\"\"Calculate the root mean square (RMS) jitter from phase noise using the given parameters.\n",
    "\n",
    "    Args:\n",
    "        freq (list): A list of frequencies.\n",
    "        L_f_dBc (list): A list of phase noise values.\n",
    "        f_c (float): The carrier frequency.\n",
    "        debug (bool, optional): If True, print debug information. Defaults to False.\n",
    "    \n",
    "    Returns:\n",
    "        float: The RMS jitter in picoseconds.\n",
    "    \n",
    "    Raises:\n",
    "        None.\n",
    "    \n",
    "    \"\"\"\n",
    "    a=[]\n",
    "    b=[]\n",
    "    sum_elements = []\n",
    "\n",
    "    if not len(freq) == len(L_f_dBc):\n",
    "        raise ValueError(f\"len(freq): {len(freq)} not equal to len(L_f_dBc): {len(L_f_dBc)} -> Calulation will failed!\")\n",
    "    \n",
    "    if float(f_c) == 0.0:\n",
    "        raise ValueError(f\"f_c == 0 -> Calulation will failed!\")\n",
    "        \n",
    "    if f_c == None:\n",
    "        raise ValueError(f\"f_c == None -> Calulation will failed!\")\n",
    "         \n",
    "    for i in range(len(freq)-1):\n",
    "        # print(i)\n",
    "        a.append((L_f_dBc[i+1]-L_f_dBc[i])/(np.log10(freq[i+1])-np.log10(freq[i])))\n",
    "        if debug: print(f\"a{i}: {a[i]}\")\n",
    "    print(\"---\")\n",
    "    for i in range(len(freq)):\n",
    "        b.append(L_f_dBc[i])\n",
    "        if debug: print(f\"b{i}: {b[i]}\")\n",
    "    # print(f\"len f: {len(freq)}, L_f_dBc {len(L_f_dBc)}\")\n",
    "    for i in range(len(freq)-1):\n",
    "        c = Decimal(a[i]/10.0)\n",
    "        # if debug: print(f\"{i} c {c}\")\n",
    "        s_1 = Decimal(10**(Decimal(b[i])/10))\n",
    "        s_2 = pow(Decimal(freq[i]), Decimal(-c))\n",
    "        s_3 = Decimal((c)+1)\n",
    "        # s_4 = freq[i]**(-c) * ((c)+1)**-1\n",
    "        s_4 = s_2 / s_3\n",
    "        s_5 = pow(Decimal(freq[i+1]),Decimal(c+1)) - pow(Decimal(freq[i]), Decimal(c+1))\n",
    "        \n",
    "        # if debug: print(f\"c: {c}\\t subst1: {s_4}\\tsubst2: {s_5}\")\n",
    "        if debug: print(f\"{i}; freq_i {freq[i]}; e1: {c}; s_1: {float(s_1)}; s_2: {float(s_2)}; s_3: {float(s_3)}; s_4: {float(s_4)}; s_5: {float(s_5)}\")\n",
    "\n",
    "        if break_at_limits:\n",
    "            if s_4 == 0.0 or np.isnan(float(s_4)) or s_5 == 0.0 or np.isnan(float(s_5))or s_1 == 0.0 or np.isnan(float(s_1))or s_2 == 0.0 or np.isnan(float(s_2))or s_3 == 0.0 or np.isnan(float(s_3)):\n",
    "                print(f\"{i}; e1 {c}\\tfreq_i: {freq[i]}\\ts_4: {s_4}\\ts_5: {s_5}\")\n",
    "                raise ValueError(\"s_4 or s_5 is 0.0 or NaN\")\n",
    "                \n",
    "        sum_elements.append(s_1 * s_4 * s_5)\n",
    "        # sum_elements.append(Decimal(10**b[i]/10) * s_4 * s_5) # -> Error\n",
    "        # sum_elements.append(Decimal(10**(Decimal(b[i])/10)) * s_4 * s_5)\n",
    "        # sum_elements.append(Decimal(10**(Decimal(b[i])/10)) * (s_4) * (s_5)) # -> Corrected\n",
    "        # sum_elements.append(pow(Decimal(10), (Decimal(b[i])/10)) * (s_4) * (s_5)) # -> Corrected\n",
    "        \n",
    "    if debug: print(sum_elements)\n",
    "    if debug: print(f\"sum {np.sum(sum_elements)}\")\n",
    "    if debug: print(2*np.sum(sum_elements))\n",
    "    if debug: print((2*np.pi*f_c))\n",
    "    rms_jitter = np.sqrt(2*np.sum(sum_elements)) / Decimal((2*np.pi*f_c))\n",
    "    \n",
    "    rms_jitter_ps = float(rms_jitter)/1e-12\n",
    "    if debug: print(float(rms_jitter_ps))\n",
    "    return float(rms_jitter_ps)"
   ]
  },
  {
   "cell_type": "code",
   "execution_count": 31,
   "id": "0b3a286a-1ab7-4ec4-9058-dc02522a49f9",
   "metadata": {
    "editable": true,
    "slideshow": {
     "slide_type": "slide"
    },
    "tags": []
   },
   "outputs": [
    {
     "name": "stdout",
     "output_type": "stream",
     "text": [
      "---\n"
     ]
    }
   ],
   "source": [
    "f_c = 13560000\n",
    "start_freq_Hz = 10\n",
    "stop_freq_Hz = 10_000_000\n",
    "\n",
    "id1 = search_index(freq, start_freq_Hz)\n",
    "id2 = search_index(freq, stop_freq_Hz)\n",
    "\n",
    "rms_jitter_ps = calc_rms_jitter_from_phasenoise(freq = freq[id1:id2], L_f_dBc = L_f_dBc[id1:id2], f_c = f_c, debug = False, break_at_limits=True)\n"
   ]
  },
  {
   "cell_type": "code",
   "execution_count": 32,
   "id": "be02340a-d833-4a15-8ed2-6a00f2efef1f",
   "metadata": {
    "editable": true,
    "slideshow": {
     "slide_type": "fragment"
    },
    "tags": []
   },
   "outputs": [
    {
     "name": "stdout",
     "output_type": "stream",
     "text": [
      "rms_jitter 2.463491398373181 ps\n"
     ]
    },
    {
     "data": {
      "image/png": "[encoded data removed]",
      "text/plain": [
       "<Figure size 1200x640 with 1 Axes>"
      ]
     },
     "metadata": {},
     "output_type": "display_data"
    }
   ],
   "source": [
    "print(f\"rms_jitter {rms_jitter_ps} ps\")\n",
    "plot_trace_with_fill(freq, L_f_dBc, start_freq_Hz, stop_freq_Hz)"
   ]
  },
  {
   "cell_type": "markdown",
   "id": "183cb83b-45d6-42cb-bcf5-b1cc166bfaea",
   "metadata": {
    "editable": true,
    "slideshow": {
     "slide_type": "slide"
    },
    "tags": []
   },
   "source": [
    "$$\\LARGE The\\hspace{0.2em}End$$\n"
   ]
  },
  {
   "cell_type": "markdown",
   "id": "add2bb11-03c1-4e36-9b48-bd27337bab28",
   "metadata": {
    "editable": true,
    "slideshow": {
     "slide_type": "fragment"
    },
    "tags": []
   },
   "source": [
    "\n",
    "$$\\LARGE To\\hspace{0.2em}be \\hspace{0.2em} continued \\hspace{0.2em} ...$$"
   ]
  },
  {
   "cell_type": "code",
   "execution_count": 33,
   "id": "d8b34948-d340-4263-af23-758d5fad35a3",
   "metadata": {
    "editable": true,
    "slideshow": {
     "slide_type": "skip"
    },
    "tags": []
   },
   "outputs": [
    {
     "data": {
      "text/plain": [
       "0.0"
      ]
     },
     "execution_count": 33,
     "metadata": {},
     "output_type": "execute_result"
    }
   ],
   "source": [
    "1/(4700**200)"
   ]
  },
  {
   "cell_type": "code",
   "execution_count": 34,
   "id": "6a83f471-1d05-4f73-b9a6-75a09790042a",
   "metadata": {
    "editable": true,
    "slideshow": {
     "slide_type": "skip"
    },
    "tags": []
   },
   "outputs": [
    {
     "data": {
      "text/plain": [
       "Decimal('3.805646218750940372126349645E-735')"
      ]
     },
     "execution_count": 34,
     "metadata": {},
     "output_type": "execute_result"
    }
   ],
   "source": [
    "from decimal import Decimal\n",
    "1/pow(Decimal(4700.0), Decimal(200))"
   ]
  },
  {
   "cell_type": "code",
   "execution_count": 35,
   "id": "99416859-6dc5-4773-86be-a822f9919585",
   "metadata": {
    "editable": true,
    "slideshow": {
     "slide_type": "skip"
    },
    "tags": []
   },
   "outputs": [
    {
     "name": "stdout",
     "output_type": "stream",
     "text": [
      "Größte darstellbare Fließkommazahl: 1.7976931348623157e+308\n",
      "Kleinste darstellbare positive Fließkommazahl: 2.2250738585072014e-308\n",
      "Abstand zwischen 1 und der nächstgelegenen darstellbaren Fließkommazahl: 2.220446049250313e-16\n",
      "---\n"
     ]
    }
   ],
   "source": [
    "import sys\n",
    "\n",
    "print(f\"Größte darstellbare Fließkommazahl: {sys.float_info.max}\")\n",
    "print(f\"Kleinste darstellbare positive Fließkommazahl: {sys.float_info.min}\")\n",
    "print(f\"Abstand zwischen 1 und der nächstgelegenen darstellbaren Fließkommazahl: {sys.float_info.epsilon}\")\n",
    "print(\"---\")"
   ]
  },
  {
   "cell_type": "markdown",
   "id": "0c951dec-f03d-4de7-88d6-ab1a8cffe5a1",
   "metadata": {
    "editable": true,
    "slideshow": {
     "slide_type": "slide"
    },
    "tags": []
   },
   "source": [
    "# Rechengeschwindigkeit prüfen"
   ]
  },
  {
   "cell_type": "markdown",
   "id": "2aacd545-f645-4086-801b-bfec828d3cac",
   "metadata": {
    "editable": true,
    "slideshow": {
     "slide_type": "fragment"
    },
    "tags": []
   },
   "source": [
    "$$ value = \\frac{1}{b^{m}} $$\n",
    "$$ s_2 = f_i^{-c} $$"
   ]
  },
  {
   "cell_type": "code",
   "execution_count": 36,
   "id": "81413dc9-1825-4e01-a5d0-49749305bf17",
   "metadata": {
    "editable": true,
    "slideshow": {
     "slide_type": "fragment"
    },
    "tags": []
   },
   "outputs": [],
   "source": [
    "import timeit"
   ]
  },
  {
   "cell_type": "code",
   "execution_count": 37,
   "id": "be41d7c6-38b3-447f-b718-ee3b357ace16",
   "metadata": {
    "editable": true,
    "slideshow": {
     "slide_type": "subslide"
    },
    "tags": []
   },
   "outputs": [],
   "source": [
    "def calc_s_2_float(b, m):\n",
    "    if b**m == 0:\n",
    "        raise ValueError(\"Division by 0\")\n",
    "    return 1/(b**m)\n",
    "\n",
    "def calc_s_2_decimal(b, m):\n",
    "    return 1/Decimal(b)**Decimal(m)"
   ]
  },
  {
   "cell_type": "markdown",
   "id": "5d03c062-c833-44da-b84b-19f8a638b87e",
   "metadata": {
    "editable": true,
    "slideshow": {
     "slide_type": "subslide"
    },
    "tags": []
   },
   "source": [
    "# Inside & outside limits"
   ]
  },
  {
   "cell_type": "code",
   "execution_count": 38,
   "id": "5766a0e0-6c5e-4ac5-84f7-93889076cae4",
   "metadata": {
    "editable": true,
    "slideshow": {
     "slide_type": "subslide"
    },
    "tags": []
   },
   "outputs": [
    {
     "name": "stdout",
     "output_type": "stream",
     "text": [
      "---\n",
      "Innerhalb der Floating point Grenzen\n",
      "b = 500; m = 112; value => 5.1922968585348276e-303 within limit\n",
      "float   calc value: 5.1922968585348276e-303; type: <class 'float'>\n",
      "1.04 µs ± 48 ns per loop (mean ± std. dev. of 7 runs, 1,000,000 loops each)\n",
      "float   calc value: 5.1922968585348276e-303; type: <class 'float'>\n",
      "558 ns ± 25.5 ns per loop (mean ± std. dev. of 7 runs, 1,000,000 loops each)\n",
      "decimal calc value: 5.1922968585348276e-303; type: <class 'float'>\n",
      "---\n",
      "Außerhalb der Floating point Grenzen\n",
      "b = 500; m = 200\n",
      "float   calc value: 0.0; type: <class 'float'>\n",
      "decimal calc value: 1.606938044258990275541962092E-540; type: <class 'decimal.Decimal'>\n",
      "---\n",
      "Wiederverwendung von Variablen schlägt bei Überlauf fehl, das Ergebnis wird bei Verwendung von %timeit nicht überschrieben\n",
      "b = 500; m = 201\n",
      "1.27 µs ± 18.9 ns per loop (mean ± std. dev. of 7 runs, 1,000,000 loops each)\n",
      "float   calc value: 1.606938044258990275541962092E-540; type: <class 'decimal.Decimal'>\n"
     ]
    }
   ],
   "source": [
    "print(\"---\")\n",
    "print(\"Innerhalb der Floating point Grenzen\")\n",
    "b = 500\n",
    "m = 112\n",
    "print(f\"b = {b}; m = {m}; value => 5.1922968585348276e-303 within limit\")\n",
    "\n",
    "value = calc_s_2_float(b, m)\n",
    "print(f\"float   calc value: {value}; type: {type(value)}\")\n",
    "\n",
    "%timeit value = calc_s_2_float(b, m)\n",
    "print(f\"float   calc value: {value}; type: {type(value)}\")\n",
    "\n",
    "%timeit value = calc_s_2_decimal(b, m)\n",
    "print(f\"decimal calc value: {value}; type: {type(value)}\")\n",
    "\n",
    "print(\"---\")\n",
    "print(\"Außerhalb der Floating point Grenzen\")\n",
    "b = 500\n",
    "m = 200\n",
    "\n",
    "print(f\"b = {b}; m = {m}\")\n",
    "value = calc_s_2_float(b, m)\n",
    "print(f\"float   calc value: {value}; type: {type(value)}\")\n",
    "\n",
    "value = calc_s_2_decimal(b, m)\n",
    "print(f\"decimal calc value: {value}; type: {type(value)}\")\n",
    "\n",
    "print(\"---\")\n",
    "print(\"Wiederverwendung von Variablen schlägt bei Überlauf fehl, das Ergebnis wird bei Verwendung von %timeit nicht überschrieben\")\n",
    "b = 500\n",
    "m = 201\n",
    "print(f\"b = {b}; m = {m}\")\n",
    "%timeit value = calc_s_2_float(b, m)\n",
    "print(f\"float   calc value: {value}; type: {type(value)}\")\n",
    "\n"
   ]
  },
  {
   "cell_type": "code",
   "execution_count": 39,
   "id": "a0fcd59f-898a-441c-b610-9e16a1440486",
   "metadata": {
    "editable": true,
    "slideshow": {
     "slide_type": "fragment"
    },
    "tags": []
   },
   "outputs": [
    {
     "data": {
      "text/plain": [
       "\u001b[0;31mType:\u001b[0m        Decimal\n",
       "\u001b[0;31mString form:\u001b[0m 1.606938044258990275541962092E-540\n",
       "\u001b[0;31mFile:\u001b[0m        /usr/lib/python3.10/decimal.py\n",
       "\u001b[0;31mDocstring:\u001b[0m  \n",
       "Construct a new Decimal object. 'value' can be an integer, string, tuple,\n",
       "or another Decimal object. If no value is given, return Decimal('0'). The\n",
       "context does not affect the conversion and is only passed to determine if\n",
       "the InvalidOperation trap is active."
      ]
     },
     "metadata": {},
     "output_type": "display_data"
    }
   ],
   "source": [
    "value?"
   ]
  },
  {
   "cell_type": "code",
   "execution_count": 40,
   "id": "353ef804-ae33-41a8-8d84-c4bc8e8b37e6",
   "metadata": {
    "editable": true,
    "slideshow": {
     "slide_type": ""
    },
    "tags": []
   },
   "outputs": [
    {
     "name": "stdout",
     "output_type": "stream",
     "text": [
      "---\n",
      "ohne Verwendung von %timeit wird die Variable erneut zugewiesen\n",
      "b = 500; m = 201\n",
      "float   calc value: 0.0; type: <class 'float'>\n"
     ]
    },
    {
     "data": {
      "text/plain": [
       "\u001b[0;31mType:\u001b[0m        float\n",
       "\u001b[0;31mString form:\u001b[0m 0.0\n",
       "\u001b[0;31mDocstring:\u001b[0m   Convert a string or number to a floating point number, if possible."
      ]
     },
     "metadata": {},
     "output_type": "display_data"
    }
   ],
   "source": [
    "\n",
    "print(\"---\")\n",
    "print(\"ohne Verwendung von %timeit wird die Variable erneut zugewiesen\")\n",
    "b = 500\n",
    "m = 201\n",
    "print(f\"b = {b}; m = {m}\")\n",
    "value = calc_s_2_float(b, m)\n",
    "print(f\"float   calc value: {value}; type: {type(value)}\")\n",
    "value?"
   ]
  },
  {
   "cell_type": "code",
   "execution_count": 41,
   "id": "d2fada51-2117-460b-b2b2-212010b0fada",
   "metadata": {
    "editable": true,
    "slideshow": {
     "slide_type": "subslide"
    },
    "tags": []
   },
   "outputs": [
    {
     "name": "stdout",
     "output_type": "stream",
     "text": [
      "Innerhalb der Floating point Grenzen\n",
      "b = 500; m = 112; value => 5.1922968585348276e-303 within limit\n"
     ]
    },
    {
     "data": {
      "text/plain": [
       "\u001b[0;31mType:\u001b[0m        float\n",
       "\u001b[0;31mString form:\u001b[0m 5.1922968585348276e-303\n",
       "\u001b[0;31mDocstring:\u001b[0m   Convert a string or number to a floating point number, if possible."
      ]
     },
     "metadata": {},
     "output_type": "display_data"
    }
   ],
   "source": [
    "print(\"Innerhalb der Floating point Grenzen\")\n",
    "b = 500\n",
    "m = 112\n",
    "print(f\"b = {b}; m = {m}; value => 5.1922968585348276e-303 within limit\")\n",
    "\n",
    "value = calc_s_2_float(b, m)\n",
    "value?"
   ]
  },
  {
   "cell_type": "markdown",
   "id": "935bd115-be41-4261-bf88-91cf93142b5a",
   "metadata": {
    "editable": true,
    "slideshow": {
     "slide_type": "subslide"
    },
    "tags": []
   },
   "source": [
    "## Value löschen um den Vorgang zu verdeutlichen"
   ]
  },
  {
   "cell_type": "code",
   "execution_count": 42,
   "id": "cc545661-9f00-499d-960d-f0855c095088",
   "metadata": {
    "editable": true,
    "slideshow": {
     "slide_type": "subslide"
    },
    "tags": []
   },
   "outputs": [
    {
     "name": "stdout",
     "output_type": "stream",
     "text": [
      "Object `value` not found.\n"
     ]
    }
   ],
   "source": [
    "del(value)\n",
    "value?"
   ]
  },
  {
   "cell_type": "code",
   "execution_count": 43,
   "id": "d914f66c-83f8-438a-a3c9-03ab540118e6",
   "metadata": {
    "editable": true,
    "slideshow": {
     "slide_type": "subslide"
    },
    "tags": []
   },
   "outputs": [
    {
     "name": "stdout",
     "output_type": "stream",
     "text": [
      "---\n",
      "Wert wird der Variablen nicht zugewiesen.\n",
      "b = 500; m = 201\n",
      "1.25 µs ± 20.7 ns per loop (mean ± std. dev. of 7 runs, 1,000,000 loops each)\n"
     ]
    },
    {
     "ename": "NameError",
     "evalue": "name 'value' is not defined",
     "output_type": "error",
     "traceback": [
      "\u001b[0;31m---------------------------------------------------------------------------\u001b[0m",
      "\u001b[0;31mNameError\u001b[0m                                 Traceback (most recent call last)",
      "Cell \u001b[0;32mIn[43], line 7\u001b[0m\n\u001b[1;32m      5\u001b[0m \u001b[38;5;28mprint\u001b[39m(\u001b[38;5;124mf\u001b[39m\u001b[38;5;124m\"\u001b[39m\u001b[38;5;124mb = \u001b[39m\u001b[38;5;132;01m{\u001b[39;00mb\u001b[38;5;132;01m}\u001b[39;00m\u001b[38;5;124m; m = \u001b[39m\u001b[38;5;132;01m{\u001b[39;00mm\u001b[38;5;132;01m}\u001b[39;00m\u001b[38;5;124m\"\u001b[39m)\n\u001b[1;32m      6\u001b[0m get_ipython()\u001b[38;5;241m.\u001b[39mrun_line_magic(\u001b[38;5;124m'\u001b[39m\u001b[38;5;124mtimeit\u001b[39m\u001b[38;5;124m'\u001b[39m, \u001b[38;5;124m'\u001b[39m\u001b[38;5;124mvalue = calc_s_2_float(b, m)\u001b[39m\u001b[38;5;124m'\u001b[39m)\n\u001b[0;32m----> 7\u001b[0m \u001b[38;5;28mprint\u001b[39m(\u001b[38;5;124mf\u001b[39m\u001b[38;5;124m\"\u001b[39m\u001b[38;5;124mfloat   calc value: \u001b[39m\u001b[38;5;132;01m{\u001b[39;00m\u001b[43mvalue\u001b[49m\u001b[38;5;132;01m}\u001b[39;00m\u001b[38;5;124m; type: \u001b[39m\u001b[38;5;132;01m{\u001b[39;00m\u001b[38;5;28mtype\u001b[39m(value)\u001b[38;5;132;01m}\u001b[39;00m\u001b[38;5;124m\"\u001b[39m)\n",
      "\u001b[0;31mNameError\u001b[0m: name 'value' is not defined"
     ]
    }
   ],
   "source": [
    "print(\"---\")\n",
    "print(\"Wert wird der Variablen nicht zugewiesen.\")\n",
    "b = 500\n",
    "m = 201\n",
    "print(f\"b = {b}; m = {m}\")\n",
    "%timeit value = calc_s_2_float(b, m)\n",
    "print(f\"float   calc value: {value}; type: {type(value)}\")"
   ]
  },
  {
   "cell_type": "code",
   "execution_count": null,
   "id": "d9d805e7-2f13-4fbd-a28a-1ff67cd664a7",
   "metadata": {
    "editable": true,
    "slideshow": {
     "slide_type": ""
    },
    "tags": []
   },
   "outputs": [],
   "source": []
  },
  {
   "cell_type": "code",
   "execution_count": null,
   "id": "8284060e-5e65-4313-8a63-68cf01c1b0a2",
   "metadata": {
    "editable": true,
    "slideshow": {
     "slide_type": ""
    },
    "tags": []
   },
   "outputs": [],
   "source": []
  },
  {
   "cell_type": "code",
   "execution_count": null,
   "id": "36033e31-b05e-4195-b0f7-107ebd5ad27b",
   "metadata": {
    "editable": true,
    "slideshow": {
     "slide_type": ""
    },
    "tags": []
   },
   "outputs": [],
   "source": []
  },
  {
   "cell_type": "code",
   "execution_count": null,
   "id": "fe50a676-383a-4429-8cf9-604731b00868",
   "metadata": {
    "editable": true,
    "slideshow": {
     "slide_type": ""
    },
    "tags": []
   },
   "outputs": [],
   "source": []
  },
  {
   "cell_type": "code",
   "execution_count": 44,
   "id": "d00025d9-b1d7-40e9-86ba-ef597f0eb961",
   "metadata": {
    "editable": true,
    "slideshow": {
     "slide_type": ""
    },
    "tags": []
   },
   "outputs": [
    {
     "data": {
      "text/plain": [
       "True"
      ]
     },
     "execution_count": 44,
     "metadata": {},
     "output_type": "execute_result"
    }
   ],
   "source": [
    "list() == []"
   ]
  },
  {
   "cell_type": "code",
   "execution_count": 45,
   "id": "b59295ea-5282-47b9-9576-cbd014adc325",
   "metadata": {
    "editable": true,
    "slideshow": {
     "slide_type": "skip"
    },
    "tags": []
   },
   "outputs": [
    {
     "data": {
      "text/plain": [
       "{'A': 2, 'b': 7}"
      ]
     },
     "execution_count": 45,
     "metadata": {},
     "output_type": "execute_result"
    }
   ],
   "source": [
    "mydict = {\"A\": 2}\n",
    "mydicta = mydict\n",
    "mydicta[\"b\"] = 7\n",
    "mydict"
   ]
  },
  {
   "cell_type": "code",
   "execution_count": 46,
   "id": "e019c472-ea58-4de5-99ac-ff2067364ab6",
   "metadata": {
    "editable": true,
    "slideshow": {
     "slide_type": "skip"
    },
    "tags": []
   },
   "outputs": [
    {
     "data": {
      "text/plain": [
       "{'A': 2}"
      ]
     },
     "execution_count": 46,
     "metadata": {},
     "output_type": "execute_result"
    }
   ],
   "source": [
    "mydict = {\"A\": 2}\n",
    "mydicta = mydict.copy()\n",
    "mydicta[\"b\"] = 7\n",
    "mydict"
   ]
  },
  {
   "cell_type": "code",
   "execution_count": 47,
   "id": "e53aa513-a13d-4219-90cb-9e3d5d54ee4c",
   "metadata": {
    "editable": true,
    "slideshow": {
     "slide_type": ""
    },
    "tags": []
   },
   "outputs": [
    {
     "data": {
      "text/plain": [
       "{'A': 2, 'b': 7}"
      ]
     },
     "execution_count": 47,
     "metadata": {},
     "output_type": "execute_result"
    }
   ],
   "source": [
    "mydicta"
   ]
  },
  {
   "cell_type": "code",
   "execution_count": null,
   "id": "d8d4139a-ecaf-4426-afc4-a4dba55c525c",
   "metadata": {},
   "outputs": [],
   "source": []
  },
  {
   "cell_type": "code",
   "execution_count": null,
   "id": "f7a8f73c-a0f8-4a7d-bbfa-a1dcfa7e9f71",
   "metadata": {},
   "outputs": [],
   "source": []
  }
 ],
 "metadata": {
  "kernelspec": {
   "display_name": "Python 3 (ipykernel)",
   "language": "python",
   "name": "python3"
  },
  "language_info": {
   "codemirror_mode": {
    "name": "ipython",
    "version": 3
   },
   "file_extension": ".py",
   "mimetype": "text/x-python",
   "name": "python",
   "nbconvert_exporter": "python",
   "pygments_lexer": "ipython3",
   "version": "3.10.12"
  }
 },
 "nbformat": 4,
 "nbformat_minor": 5
}
